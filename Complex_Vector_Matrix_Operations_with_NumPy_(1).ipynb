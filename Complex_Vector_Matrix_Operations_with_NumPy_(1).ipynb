{
  "cells": [
    {
      "cell_type": "markdown",
      "id": "a07bd584",
      "metadata": {
        "id": "a07bd584"
      },
      "source": [
        "# Theory of Complex Vector Spaces\n",
        "Complex vector spaces extend the idea of real vector spaces by allowing vectors to have complex numbers as their components. In these spaces, vectors can be added together and multiplied by complex scalars to produce new vectors. Key operations in complex vector spaces include vector addition, scalar multiplication, vector negation, and complex conjugation."
      ]
    },
    {
      "cell_type": "markdown",
      "id": "f43fc972-23ab-4d81-aa26-c51325dac8f3",
      "metadata": {
        "id": "f43fc972-23ab-4d81-aa26-c51325dac8f3"
      },
      "source": [
        "# Creating complex column vectors"
      ]
    },
    {
      "cell_type": "code",
      "execution_count": 1,
      "id": "029f08ba-1cdc-4928-9631-f62c51ab7aa5",
      "metadata": {
        "colab": {
          "base_uri": "https://localhost:8080/"
        },
        "id": "029f08ba-1cdc-4928-9631-f62c51ab7aa5",
        "outputId": "5238ed4c-0018-4128-9a7c-81217953a5ea"
      },
      "outputs": [
        {
          "output_type": "stream",
          "name": "stdout",
          "text": [
            "Matrix:\n",
            " [[2 3]\n",
            " [1 4]]\n",
            "\n",
            "Vector:\n",
            " [5 6]\n",
            "\n",
            "Result of multiplication:\n",
            " [28 29]\n"
          ]
        }
      ],
      "source": [
        "import numpy as np\n",
        "\n",
        "# Define a 2x2 square matrix\n",
        "matrix = np.array([[2, 3],\n",
        "                   [1, 4]])\n",
        "\n",
        "# Define a vector of size 2\n",
        "vector = np.array([5, 6])\n",
        "\n",
        "# Multiply the matrix by the vector\n",
        "result = np.dot(matrix, vector)\n",
        "\n",
        "# Display the result\n",
        "print(\"Matrix:\\n\", matrix)\n",
        "print(\"\\nVector:\\n\", vector)\n",
        "print(\"\\nResult of multiplication:\\n\", result)\n"
      ]
    },
    {
      "cell_type": "markdown",
      "id": "975c2284",
      "metadata": {
        "id": "975c2284"
      },
      "source": [
        "## Manipulating Complex Column Vectors using NumPy\n",
        "Here we demonstrate how to manipulate complex column vectors using NumPy, including operations like sum, negation, multiplication by a scalar, transpose, adjunct, and conjugate."
      ]
    },
    {
      "cell_type": "markdown",
      "source": [],
      "metadata": {
        "id": "FBVp6J6ROds4"
      },
      "id": "FBVp6J6ROds4"
    },
    {
      "cell_type": "code",
      "execution_count": null,
      "id": "e8058abe",
      "metadata": {
        "colab": {
          "base_uri": "https://localhost:8080/"
        },
        "id": "e8058abe",
        "outputId": "1fe75d78-7626-4c6f-b978-62797fe27df3"
      },
      "outputs": [
        {
          "output_type": "execute_result",
          "data": {
            "text/plain": [
              "(array([[3.+2.j],\n",
              "        [8.-2.j],\n",
              "        [5.-3.j]]),\n",
              " array([[-2.-3.j],\n",
              "        [-5.+4.j],\n",
              "        [-1.-1.j]]),\n",
              " array([[ 1.+8.j],\n",
              "        [14.-3.j],\n",
              "        [ 1.+3.j]]),\n",
              " array([[2.+3.j, 5.-4.j, 1.+1.j]]),\n",
              " array([[2.-3.j, 5.+4.j, 1.-1.j]]),\n",
              " array([[2.-3.j],\n",
              "        [5.+4.j],\n",
              "        [1.-1.j]]))"
            ]
          },
          "metadata": {},
          "execution_count": 2
        }
      ],
      "source": [
        "\n",
        "import numpy as np\n",
        "\n",
        "# Define two complex column vectors\n",
        "v1 = np.array([[2+3j], [5-4j], [1+1j]])\n",
        "v2 = np.array([[1-1j], [3+2j], [4-4j]])\n",
        "\n",
        "# Sum\n",
        "sum_v = v1 + v2\n",
        "\n",
        "# Negation\n",
        "neg_v1 = -v1\n",
        "\n",
        "# Multiplication by a scalar\n",
        "scalar = 2 + 1j\n",
        "mult_v1 = v1 * scalar\n",
        "\n",
        "# Transpose\n",
        "transpose_v1 = v1.T\n",
        "\n",
        "# Adjunct (Conjugate transpose)\n",
        "adjunct_v1 = v1.T.conj()\n",
        "\n",
        "# Conjugate\n",
        "conjugate_v1 = np.conjugate(v1)\n",
        "\n",
        "(sum_v, neg_v1, mult_v1, transpose_v1, adjunct_v1, conjugate_v1)\n"
      ]
    },
    {
      "cell_type": "markdown",
      "id": "995ae5fc",
      "metadata": {
        "id": "995ae5fc"
      },
      "source": [
        "# Theory of Vector Spaces using Matrices\n",
        "In the context of matrices, vector spaces can be defined where each vector is a matrix of a particular size. Operations on these matrix-vector spaces include matrix addition, scalar multiplication, matrix negation, transpose, adjunct, and conjugate. In this section, we focus on square matrices of size 3x3."
      ]
    },
    {
      "cell_type": "markdown",
      "id": "9385c1f0",
      "metadata": {
        "id": "9385c1f0"
      },
      "source": [
        "## Manipulating Square Matrices using NumPy\n",
        "Examples of how to manipulate 3x3 square matrices using NumPy, showing operations such as sum, negation, multiplication by a scalar, conjugate, transpose, and adjunct."
      ]
    },
    {
      "cell_type": "code",
      "execution_count": null,
      "id": "b81ecc57",
      "metadata": {
        "colab": {
          "base_uri": "https://localhost:8080/"
        },
        "id": "b81ecc57",
        "outputId": "0e5cd161-810d-4062-c163-48553e44d3c5"
      },
      "outputs": [
        {
          "output_type": "execute_result",
          "data": {
            "text/plain": [
              "(array([[3.+3.j, 6.+0.j, 3.-3.j],\n",
              "        [1.+1.j, 2.+5.j, 6.-2.j],\n",
              "        [7.+3.j, 8.-2.j, 5.+3.j]]),\n",
              " array([[-2.-3.j, -4.+1.j, -0.-0.j],\n",
              "        [-1.-1.j, -3.-3.j, -5.-0.j],\n",
              "        [-4.-0.j, -6.+2.j, -1.+1.j]]),\n",
              " array([[-0.5+2.5j,  2.5+1.5j,  0. +0.j ],\n",
              "        [ 0. +1.j ,  0. +3.j ,  2.5+2.5j],\n",
              "        [ 2. +2.j ,  4. +2.j ,  1. +0.j ]]),\n",
              " array([[2.-3.j, 4.+1.j, 0.-0.j],\n",
              "        [1.-1.j, 3.-3.j, 5.-0.j],\n",
              "        [4.-0.j, 6.+2.j, 1.+1.j]]),\n",
              " array([[2.+3.j, 1.+1.j, 4.+0.j],\n",
              "        [4.-1.j, 3.+3.j, 6.-2.j],\n",
              "        [0.+0.j, 5.+0.j, 1.-1.j]]),\n",
              " array([[2.-3.j, 1.-1.j, 4.-0.j],\n",
              "        [4.+1.j, 3.-3.j, 6.+2.j],\n",
              "        [0.-0.j, 5.-0.j, 1.+1.j]]))"
            ]
          },
          "metadata": {},
          "execution_count": 3
        }
      ],
      "source": [
        "\n",
        "# Define two 3x3 complex matrices\n",
        "m1 = np.array([[2+3j, 4-1j, 0],\n",
        "               [1+1j, 3+3j, 5],\n",
        "               [4, 6-2j, 1-1j]])\n",
        "m2 = np.array([[1, 2+1j, 3-3j],\n",
        "               [0, -1+2j, 1-2j],\n",
        "               [3+3j, 2, 4+4j]])\n",
        "\n",
        "# Sum\n",
        "sum_m = m1 + m2\n",
        "\n",
        "# Negation\n",
        "neg_m1 = -m1\n",
        "\n",
        "# Multiplication by a scalar\n",
        "scalar = 0.5 + 0.5j\n",
        "mult_m1 = m1 * scalar\n",
        "\n",
        "# Conjugate\n",
        "conjugate_m1 = np.conjugate(m1)\n",
        "\n",
        "# Transpose\n",
        "transpose_m1 = m1.T\n",
        "\n",
        "# Adjunct (Conjugate transpose)\n",
        "adjunct_m1 = m1.T.conj()\n",
        "\n",
        "(sum_m, neg_m1, mult_m1, conjugate_m1, transpose_m1, adjunct_m1)\n"
      ]
    },
    {
      "cell_type": "markdown",
      "id": "ed909545-8a5c-4cca-85f7-48688b597598",
      "metadata": {
        "id": "ed909545-8a5c-4cca-85f7-48688b597598"
      },
      "source": [
        "## Checking the Dimension of a Matrix\n",
        "We can check the dimension of a matrix using the `.shape` attribute."
      ]
    },
    {
      "cell_type": "code",
      "execution_count": null,
      "id": "0930dc10-af6d-427f-bbcb-75bfaf051db5",
      "metadata": {
        "colab": {
          "base_uri": "https://localhost:8080/"
        },
        "id": "0930dc10-af6d-427f-bbcb-75bfaf051db5",
        "outputId": "5e2923d9-f4a2-4d5f-b942-ca9e994b78b9"
      },
      "outputs": [
        {
          "output_type": "execute_result",
          "data": {
            "text/plain": [
              "(3, 3)"
            ]
          },
          "metadata": {},
          "execution_count": 4
        }
      ],
      "source": [
        "# Checking the dimension of matrix1\n",
        "m1.shape"
      ]
    },
    {
      "cell_type": "markdown",
      "id": "b3fe896b",
      "metadata": {
        "id": "b3fe896b"
      },
      "source": [
        "## Action of a Matrix on a Vector\n",
        "Finally, examples of how to use Python to multiply a 3x3 square matrix by a 3x1 column vector."
      ]
    },
    {
      "cell_type": "code",
      "execution_count": null,
      "id": "e514d047",
      "metadata": {
        "colab": {
          "base_uri": "https://localhost:8080/"
        },
        "id": "e514d047",
        "outputId": "5fcc9e25-772c-4e88-bf08-8f3c0933f816"
      },
      "outputs": [
        {
          "output_type": "execute_result",
          "data": {
            "text/plain": [
              "array([[11. -9.j],\n",
              "       [31.+13.j],\n",
              "       [32.-22.j]])"
            ]
          },
          "metadata": {},
          "execution_count": 5
        }
      ],
      "source": [
        "\n",
        "# Multiplying a 3x3 matrix by a 3x1 vector\n",
        "result = np.dot(m1, v1)\n",
        "result\n"
      ]
    },
    {
      "cell_type": "markdown",
      "id": "5adf9d8a-af43-4074-ab1a-3cabdc4accff",
      "metadata": {
        "id": "5adf9d8a-af43-4074-ab1a-3cabdc4accff"
      },
      "source": [
        "# Exercises on Complex Vectors and Matrices with Concrete Cases\n",
        "\n",
        "This set of exercises focuses on operations with complex column vectors and complex square matrices, including concrete cases with vectors and matrices written in LaTeX format.\n",
        "\n",
        "## Complex Column Vector Operations\n",
        "\n",
        "### Exercise 1: Sum of Two Complex Vectors\n",
        "Given two complex vectors\n",
        "$ v1 = \\begin{bmatrix} 1 + 2i \\\\ 3 - i \\end{bmatrix} $\n",
        "and\n",
        "$ v2 = \\begin{bmatrix} 2 - i \\\\ 4 + 2i \\end{bmatrix} $,\n",
        "find their sum.\n",
        "\n",
        "### Exercise 2: Negation of a Complex Vector\n",
        "Given a complex vector\n",
        "$ v = \\begin{bmatrix} 2 + 3i \\\\ 1 - 2i \\end{bmatrix} $,\n",
        "find its negation.\n",
        "\n",
        "### Exercise 3: Multiplication of a Complex Vector by a Scalar\n",
        "Multiply the complex vector\n",
        "$ v = \\begin{bmatrix} 1 - i \\\\ 2 + 2i \\end{bmatrix} $\n",
        "by the complex scalar $$ 3 + i $$.\n",
        "\n",
        "### Exercise 4: Transpose of a Complex Vector\n",
        "Find the transpose of the complex vector\n",
        "$ v = \\begin{bmatrix} 2 - i \\\\ 3 + 4i \\end{bmatrix} $.\n",
        "\n",
        "### Exercise 5: Conjugate of a Complex Vector\n",
        "Compute the conjugate of the complex vector\n",
        "$ v = \\begin{bmatrix} 1 + i \\\\ 2 - 3i \\end{bmatrix} $.\n",
        "\n",
        "### Exercise 6: Adjunct (Conjugate Transpose) of a Complex Vector\n",
        "Find the adjunct (or conjugate transpose) of the complex vector\n",
        "$ v = \\begin{bmatrix} 1 - 2i \\\\ 3 + i \\end{bmatrix} $.\n",
        "\n",
        "## Complex Square Matrix Operations\n",
        "\n",
        "### Exercise 7: Sum of Two Complex Matrices\n",
        "Given two complex matrices\n",
        "$ m1 = \\begin{bmatrix} 1 + i & 2 - i \\\\ 3 + 2i & 4 \\end{bmatrix} $\n",
        "and\n",
        "$ m2 = \\begin{bmatrix} 2 - 3i & 1 \\\\ i & 2 + 2i \\end{bmatrix} $,\n",
        "calculate their sum.\n",
        "\n",
        "### Exercise 8: Negation of a Complex Matrix\n",
        "Find the negation of the complex matrix\n",
        "$ m = \\begin{bmatrix} 2 + i & 3 \\\\ 1 - i & 2 + 2i \\end{bmatrix} $.\n",
        "\n",
        "### Exercise 9: Multiplication of a Complex Matrix by a Scalar\n",
        "Multiply the complex matrix\n",
        "$ m = \\begin{bmatrix} 1 - i & 2 \\\\ 3 + i & 4 - 2i \\end{bmatrix} $\n",
        "by the complex scalar $$ 2 + 3i $$.\n",
        "\n",
        "### Exercise 10: Conjugate of a Complex Matrix\n",
        "Compute the conjugate of the complex matrix\n",
        "$ m = \\begin{bmatrix} 1 + i & 2 \\\\ 3 - i & 4 + 2i \\end{bmatrix} $.\n",
        "\n",
        "### Exercise 11: Transpose of a Complex Matrix\n",
        "Find the transpose of the complex matrix\n",
        "$ m = \\begin{bmatrix} 1 - i & 2 + 2i \\\\ 3 & 4 - i \\end{bmatrix} $.\n",
        "\n",
        "### Exercise 12: Adjunct (Conjugate Transpose) of a Complex Matrix\n",
        "Calculate the adjunct (or conjugate transpose) of the complex matrix\n",
        "$ m = \\begin{bmatrix} 1 + 2i & 3 - i \\\\ 4 & 5 + i \\end{bmatrix} $.\n",
        "\n",
        "### Exercise 13: Checking the Dimensions of a Matrix\n",
        "Determine the dimensions of the complex matrix\n",
        "$ m = \\begin{bmatrix} 1 - i & 2 \\\\ 3 + 2i & 4 - i \\end{bmatrix} $.\n",
        "\n",
        "## Multiplication of Matrices and Vectors\n",
        "\n",
        "### Exercise 14: Multiplying a Complex Square Matrix by a Complex Column Vector\n",
        "Multiply the complex square matrix\n",
        "$ m = \\begin{bmatrix} 1 + i & 2 - i \\\\ 3 & 4 + i \\end{bmatrix} $\n",
        "by the complex column vector\n",
        "$ v = \\begin{bmatrix} 2 - i \\\\ 1 + 3i \\end{bmatrix} $.\n",
        "\n",
        "## Instructions\n",
        "For each exercise, ensure to display both the input (vectors/matrices) and the result of the operation.Use NumPy for these exercises to practice handling complex numbers and matrix operations in Python.\n"
      ]
    },
    {
      "cell_type": "markdown",
      "source": [
        "# Ejercicio 1: Suma de dos vectores complejos"
      ],
      "metadata": {
        "id": "YLgsk9eFI40z"
      },
      "id": "YLgsk9eFI40z"
    },
    {
      "cell_type": "code",
      "execution_count": null,
      "id": "12949876-03e8-4f25-b566-517ed35ac1e1",
      "metadata": {
        "colab": {
          "base_uri": "https://localhost:8080/"
        },
        "id": "12949876-03e8-4f25-b566-517ed35ac1e1",
        "outputId": "7b3016d0-7785-429a-e61d-61fd77b2dd00"
      },
      "outputs": [
        {
          "output_type": "stream",
          "name": "stdout",
          "text": [
            "v1 =\n",
            " [[1.+2.j]\n",
            " [3.-1.j]]\n",
            "v2 =\n",
            " [[2.-1.j]\n",
            " [4.+2.j]]\n",
            "Resultado =\n",
            " [[3.+1.j]\n",
            " [7.+1.j]]\n"
          ]
        }
      ],
      "source": [
        "import numpy as np\n",
        "\n",
        "# Vectores\n",
        "v1 = np.array([[1+2j], [3-1j]])\n",
        "v2 = np.array([[2-1j], [4+2j]])\n",
        "\n",
        "sum_v = v1 + v2\n",
        "\n",
        "\n",
        "print(\"v1 =\\n\", v1)\n",
        "print(\"v2 =\\n\", v2)\n",
        "print(\"Resultado =\\n\", sum_v)\n"
      ]
    },
    {
      "cell_type": "markdown",
      "source": [
        "# Ejercicio 2: Negación de un vector"
      ],
      "metadata": {
        "id": "fHQKu5XZJDDr"
      },
      "id": "fHQKu5XZJDDr"
    },
    {
      "cell_type": "code",
      "source": [
        "v = np.array([[2+3j], [1-2j]])\n",
        "\n",
        "# Negación\n",
        "neg_v = -v\n",
        "\n",
        "\n",
        "print(\"v =\\n\", v)\n",
        "print(\"Resultado =\\n\", neg_v)\n"
      ],
      "metadata": {
        "colab": {
          "base_uri": "https://localhost:8080/"
        },
        "id": "o9daMBTgH15E",
        "outputId": "3310dc66-a3e4-4bb6-c00e-fa6d2bed1859"
      },
      "id": "o9daMBTgH15E",
      "execution_count": null,
      "outputs": [
        {
          "output_type": "stream",
          "name": "stdout",
          "text": [
            "v =\n",
            " [[2.+3.j]\n",
            " [1.-2.j]]\n",
            "Resultado =\n",
            " [[-2.-3.j]\n",
            " [-1.+2.j]]\n"
          ]
        }
      ]
    },
    {
      "cell_type": "markdown",
      "source": [
        "# Ejercicio 3: Multiplicación de un vector por un escalar"
      ],
      "metadata": {
        "id": "b1qPKzbKJI5u"
      },
      "id": "b1qPKzbKJI5u"
    },
    {
      "cell_type": "code",
      "source": [
        "v = np.array([[1-1j], [2+2j]])\n",
        "scalar = 3 + 1j\n",
        "\n",
        "# Multiplicación\n",
        "mult_v = v * scalar\n",
        "\n",
        "\n",
        "print(\"v =\\n\", v)\n",
        "print(\"Escalar =\", scalar)\n",
        "print(\"Resultado =\\n\", mult_v)\n"
      ],
      "metadata": {
        "colab": {
          "base_uri": "https://localhost:8080/"
        },
        "id": "fQUrJSYEH4dU",
        "outputId": "6a47532f-c021-41fc-fe84-76c5561f88a8"
      },
      "id": "fQUrJSYEH4dU",
      "execution_count": null,
      "outputs": [
        {
          "output_type": "stream",
          "name": "stdout",
          "text": [
            "v =\n",
            " [[1.-1.j]\n",
            " [2.+2.j]]\n",
            "Escalar = (3+1j)\n",
            "Resultado =\n",
            " [[4.-2.j]\n",
            " [4.+8.j]]\n"
          ]
        }
      ]
    },
    {
      "cell_type": "markdown",
      "source": [
        "# Ejercicio 4: Transpuesta de un vector\n"
      ],
      "metadata": {
        "id": "0E0GX3ZSJPEv"
      },
      "id": "0E0GX3ZSJPEv"
    },
    {
      "cell_type": "code",
      "source": [
        "v = np.array([[2-1j], [3+4j]])\n",
        "\n",
        "# Transpuesta\n",
        "transpose_v = v.T\n",
        "\n",
        "\n",
        "print(\"v =\\n\", v)\n",
        "print(\"Resultado =\\n\", transpose_v)\n"
      ],
      "metadata": {
        "colab": {
          "base_uri": "https://localhost:8080/"
        },
        "id": "HNGLvaTPICyT",
        "outputId": "2d28e105-16f2-4dde-a949-e17003bbb0c3"
      },
      "id": "HNGLvaTPICyT",
      "execution_count": null,
      "outputs": [
        {
          "output_type": "stream",
          "name": "stdout",
          "text": [
            "v =\n",
            " [[2.-1.j]\n",
            " [3.+4.j]]\n",
            "Resultado =\n",
            " [[2.-1.j 3.+4.j]]\n"
          ]
        }
      ]
    },
    {
      "cell_type": "markdown",
      "source": [
        "# Ejercicio 5: Conjugado de un vector"
      ],
      "metadata": {
        "id": "_3FZc9McJV4H"
      },
      "id": "_3FZc9McJV4H"
    },
    {
      "cell_type": "code",
      "source": [
        "v = np.array([[1+1j], [2-3j]])\n",
        "\n",
        "# Conjugado\n",
        "conjugate_v = np.conjugate(v)\n",
        "\n",
        "print(\"v =\\n\", v)\n",
        "print(\"Resultado =\\n\", conjugate_v)\n"
      ],
      "metadata": {
        "colab": {
          "base_uri": "https://localhost:8080/"
        },
        "id": "Jdj63z4RIHtO",
        "outputId": "5464172d-9d9f-4163-f8c2-0e7af1c353a7"
      },
      "id": "Jdj63z4RIHtO",
      "execution_count": null,
      "outputs": [
        {
          "output_type": "stream",
          "name": "stdout",
          "text": [
            "v =\n",
            " [[1.+1.j]\n",
            " [2.-3.j]]\n",
            "Resultado =\n",
            " [[1.-1.j]\n",
            " [2.+3.j]]\n"
          ]
        }
      ]
    },
    {
      "cell_type": "markdown",
      "source": [
        "# Ejercicio 6: Adjunta (transpuesta conjugada) de un vector"
      ],
      "metadata": {
        "id": "fydf1BKdJcBP"
      },
      "id": "fydf1BKdJcBP"
    },
    {
      "cell_type": "code",
      "source": [
        "v = np.array([[1-2j], [3+1j]])\n",
        "\n",
        "# Adjunta = Transpuesta + Conjugado\n",
        "adjunct_v = v.T.conj()\n",
        "\n",
        "\n",
        "print(\"v =\\n\", v)\n",
        "print(\"Resultado =\\n\", adjunct_v)\n"
      ],
      "metadata": {
        "colab": {
          "base_uri": "https://localhost:8080/"
        },
        "id": "aVldP1XcILH7",
        "outputId": "7e0f7630-d135-4d04-a37f-a62991fb53cc"
      },
      "id": "aVldP1XcILH7",
      "execution_count": null,
      "outputs": [
        {
          "output_type": "stream",
          "name": "stdout",
          "text": [
            "v =\n",
            " [[1.-2.j]\n",
            " [3.+1.j]]\n",
            "Resultado =\n",
            " [[1.+2.j 3.-1.j]]\n"
          ]
        }
      ]
    },
    {
      "cell_type": "markdown",
      "source": [
        "#Ejercicios con matrices cuadradas complejas"
      ],
      "metadata": {
        "id": "4N976ecwJmU8"
      },
      "id": "4N976ecwJmU8"
    },
    {
      "cell_type": "markdown",
      "source": [
        "# Ejercicio 7: Suma de dos matrices complejas"
      ],
      "metadata": {
        "id": "LJRINrTWJvk-"
      },
      "id": "LJRINrTWJvk-"
    },
    {
      "cell_type": "code",
      "source": [
        "# Matrices\n",
        "m1 = np.array([[1+1j, 3+2j],\n",
        "               [2-1j, 4]])\n",
        "m2 = np.array([[2-3j, 1j],\n",
        "               [1, 2+2j]])\n",
        "\n",
        "sum_m = m1 + m2\n",
        "\n",
        "\n",
        "print(\"m1 =\\n\", m1)\n",
        "print(\"m2 =\\n\", m2)\n",
        "print(\"Resultado =\\n\", sum_m)\n"
      ],
      "metadata": {
        "colab": {
          "base_uri": "https://localhost:8080/"
        },
        "id": "zslMXBtTIO12",
        "outputId": "0b60ecdf-b7cc-4b02-f78f-6536d7f85743"
      },
      "id": "zslMXBtTIO12",
      "execution_count": null,
      "outputs": [
        {
          "output_type": "stream",
          "name": "stdout",
          "text": [
            "m1 =\n",
            " [[1.+1.j 3.+2.j]\n",
            " [2.-1.j 4.+0.j]]\n",
            "m2 =\n",
            " [[2.-3.j 0.+1.j]\n",
            " [1.+0.j 2.+2.j]]\n",
            "Resultado =\n",
            " [[3.-2.j 3.+3.j]\n",
            " [3.-1.j 6.+2.j]]\n"
          ]
        }
      ]
    },
    {
      "cell_type": "markdown",
      "source": [
        "# Ejercicio 8: Negación de una matriz"
      ],
      "metadata": {
        "id": "4oKVbVDxJ4PH"
      },
      "id": "4oKVbVDxJ4PH"
    },
    {
      "cell_type": "code",
      "source": [
        "m = np.array([[2+1j, 1-1j],\n",
        "              [3, 2+2j]])\n",
        "\n",
        "# Negación\n",
        "neg_m = -m\n",
        "\n",
        "print(\"m =\\n\", m)\n",
        "print(\"Resultado =\\n\", neg_m)\n"
      ],
      "metadata": {
        "colab": {
          "base_uri": "https://localhost:8080/"
        },
        "id": "w91jm907ISbL",
        "outputId": "92c8e25f-e9af-4d4c-d254-dae7dc7bad60"
      },
      "id": "w91jm907ISbL",
      "execution_count": null,
      "outputs": [
        {
          "output_type": "stream",
          "name": "stdout",
          "text": [
            "m =\n",
            " [[2.+1.j 1.-1.j]\n",
            " [3.+0.j 2.+2.j]]\n",
            "Resultado =\n",
            " [[-2.-1.j -1.+1.j]\n",
            " [-3.-0.j -2.-2.j]]\n"
          ]
        }
      ]
    },
    {
      "cell_type": "markdown",
      "source": [
        "# Ejercicio 9: Multiplicación de una matriz compleja por un escalar"
      ],
      "metadata": {
        "id": "AFaI-p2xJ_K0"
      },
      "id": "AFaI-p2xJ_K0"
    },
    {
      "cell_type": "code",
      "source": [
        "m = np.array([[1-1j, 3+1j],\n",
        "              [2, 4-2j]])\n",
        "scalar = 2 + 3j\n",
        "\n",
        "# Multiplicación\n",
        "mult_m = m * scalar\n",
        "\n",
        "print(\"m =\\n\", m)\n",
        "print(\"Escalar =\", scalar)\n",
        "print(\"Resultado =\\n\", mult_m)\n"
      ],
      "metadata": {
        "colab": {
          "base_uri": "https://localhost:8080/"
        },
        "id": "qWjdKTkoIX0X",
        "outputId": "3b50ad5b-8c9a-4ac2-ff16-69902fda103d"
      },
      "id": "qWjdKTkoIX0X",
      "execution_count": null,
      "outputs": [
        {
          "output_type": "stream",
          "name": "stdout",
          "text": [
            "m =\n",
            " [[1.-1.j 3.+1.j]\n",
            " [2.+0.j 4.-2.j]]\n",
            "Escalar = (2+3j)\n",
            "Resultado =\n",
            " [[ 5. +1.j  3.+11.j]\n",
            " [ 4. +6.j 14. +8.j]]\n"
          ]
        }
      ]
    },
    {
      "cell_type": "markdown",
      "source": [
        "# Ejercicio 10: Conjugado de una matriz"
      ],
      "metadata": {
        "id": "Wk-8SKqtKJT2"
      },
      "id": "Wk-8SKqtKJT2"
    },
    {
      "cell_type": "code",
      "source": [
        "m = np.array([[1+1j, 3-1j],\n",
        "              [2, 4+2j]])\n",
        "\n",
        "# Conjugado\n",
        "conjugate_m = np.conjugate(m)\n",
        "\n",
        "\n",
        "print(\"m =\\n\", m)\n",
        "print(\"Resultado =\\n\", conjugate_m)\n"
      ],
      "metadata": {
        "colab": {
          "base_uri": "https://localhost:8080/"
        },
        "id": "WNWdCj6lIZyX",
        "outputId": "a2e80677-b5e9-446f-8174-2724b00c98ae"
      },
      "id": "WNWdCj6lIZyX",
      "execution_count": null,
      "outputs": [
        {
          "output_type": "stream",
          "name": "stdout",
          "text": [
            "m =\n",
            " [[1.+1.j 3.-1.j]\n",
            " [2.+0.j 4.+2.j]]\n",
            "Resultado =\n",
            " [[1.-1.j 3.+1.j]\n",
            " [2.-0.j 4.-2.j]]\n"
          ]
        }
      ]
    },
    {
      "cell_type": "markdown",
      "source": [
        "# Ejercicio 11: Transpuesta de una matriz"
      ],
      "metadata": {
        "id": "9GvC1VJ2KQND"
      },
      "id": "9GvC1VJ2KQND"
    },
    {
      "cell_type": "code",
      "source": [
        "m = np.array([[1-1j, 3],\n",
        "              [2+2j, 4-1j]])\n",
        "\n",
        "# Transpuesta\n",
        "transpose_m = m.T\n",
        "\n",
        "\n",
        "print(\"m =\\n\", m)\n",
        "print(\"Resultado =\\n\", transpose_m)\n"
      ],
      "metadata": {
        "colab": {
          "base_uri": "https://localhost:8080/"
        },
        "id": "NH8sAWpfIcLj",
        "outputId": "5bfcbca8-87d0-42de-d8e8-3b8f788d3e98"
      },
      "id": "NH8sAWpfIcLj",
      "execution_count": null,
      "outputs": [
        {
          "output_type": "stream",
          "name": "stdout",
          "text": [
            "m =\n",
            " [[1.-1.j 3.+0.j]\n",
            " [2.+2.j 4.-1.j]]\n",
            "Resultado =\n",
            " [[1.-1.j 2.+2.j]\n",
            " [3.+0.j 4.-1.j]]\n"
          ]
        }
      ]
    },
    {
      "cell_type": "markdown",
      "source": [
        "# Ejercicio 12: Adjunta (transpuesta conjugada) de una matriz"
      ],
      "metadata": {
        "id": "ofwYPyOuKbB8"
      },
      "id": "ofwYPyOuKbB8"
    },
    {
      "cell_type": "code",
      "source": [
        "m = np.array([[1+2j, 4],\n",
        "              [3-1j, 5+1j]])\n",
        "\n",
        "# Adjunta = Transpuesta + Conjugado\n",
        "adjunct_m = m.T.conj()\n",
        "\n",
        "\n",
        "print(\"m =\\n\", m)\n",
        "print(\"Resultado =\\n\", adjunct_m)\n"
      ],
      "metadata": {
        "colab": {
          "base_uri": "https://localhost:8080/"
        },
        "id": "50w4fCh9Iger",
        "outputId": "e7562e55-d259-484e-861b-8d5e03ae95f7"
      },
      "id": "50w4fCh9Iger",
      "execution_count": null,
      "outputs": [
        {
          "output_type": "stream",
          "name": "stdout",
          "text": [
            "m =\n",
            " [[1.+2.j 4.+0.j]\n",
            " [3.-1.j 5.+1.j]]\n",
            "Resultado =\n",
            " [[1.-2.j 3.+1.j]\n",
            " [4.-0.j 5.-1.j]]\n"
          ]
        }
      ]
    },
    {
      "cell_type": "markdown",
      "source": [
        "# Ejercicio 13: Revisar dimensiones de una matriz"
      ],
      "metadata": {
        "id": "ztkhseweKjUH"
      },
      "id": "ztkhseweKjUH"
    },
    {
      "cell_type": "code",
      "source": [
        "m = np.array([[1-1j, 3+2j],\n",
        "              [2, 4-1j]])\n",
        "\n",
        "# Dimensiones\n",
        "dim = m.shape\n",
        "\n",
        "\n",
        "print(\"m =\\n\", m)\n",
        "print(\"Dimensiones =\", dim)\n"
      ],
      "metadata": {
        "colab": {
          "base_uri": "https://localhost:8080/"
        },
        "id": "LaSmqB9jIiLz",
        "outputId": "f2f37b42-0eb0-4f3c-fa97-7d4d75404632"
      },
      "id": "LaSmqB9jIiLz",
      "execution_count": null,
      "outputs": [
        {
          "output_type": "stream",
          "name": "stdout",
          "text": [
            "m =\n",
            " [[1.-1.j 3.+2.j]\n",
            " [2.+0.j 4.-1.j]]\n",
            "Dimensiones = (2, 2)\n"
          ]
        }
      ]
    },
    {
      "cell_type": "markdown",
      "source": [
        "#Multiplicación de matrices y vectores"
      ],
      "metadata": {
        "id": "mRb_ThNjInhi"
      },
      "id": "mRb_ThNjInhi"
    },
    {
      "cell_type": "markdown",
      "source": [
        "# Ejercicio 14: Multiplicación de una matriz compleja por un vector complejo"
      ],
      "metadata": {
        "id": "pJid1wuOKx-K"
      },
      "id": "pJid1wuOKx-K"
    },
    {
      "cell_type": "code",
      "source": [
        "m = np.array([[1+1j, 3],\n",
        "              [2-1j, 4+1j]])\n",
        "\n",
        "# Vector\n",
        "v = np.array([[2-1j], [1+3j]])\n",
        "\n",
        "# Multiplicación\n",
        "result = np.dot(m, v)\n",
        "\n",
        "\n",
        "print(\"m =\\n\", m)\n",
        "print(\"v =\\n\", v)\n",
        "print(\"Resultado =\\n\", result)\n"
      ],
      "metadata": {
        "colab": {
          "base_uri": "https://localhost:8080/"
        },
        "id": "CoFlc0GeIpfW",
        "outputId": "93794918-33df-4bac-96c3-37a650ea8117"
      },
      "id": "CoFlc0GeIpfW",
      "execution_count": null,
      "outputs": [
        {
          "output_type": "stream",
          "name": "stdout",
          "text": [
            "m =\n",
            " [[1.+1.j 3.+0.j]\n",
            " [2.-1.j 4.+1.j]]\n",
            "v =\n",
            " [[2.-1.j]\n",
            " [1.+3.j]]\n",
            "Resultado =\n",
            " [[6.+10.j]\n",
            " [4. +9.j]]\n"
          ]
        }
      ]
    }
  ],
  "metadata": {
    "kernelspec": {
      "display_name": "Python 3 (ipykernel)",
      "language": "python",
      "name": "python3"
    },
    "language_info": {
      "codemirror_mode": {
        "name": "ipython",
        "version": 3
      },
      "file_extension": ".py",
      "mimetype": "text/x-python",
      "name": "python",
      "nbconvert_exporter": "python",
      "pygments_lexer": "ipython3",
      "version": "3.12.1"
    },
    "colab": {
      "provenance": []
    }
  },
  "nbformat": 4,
  "nbformat_minor": 5
}