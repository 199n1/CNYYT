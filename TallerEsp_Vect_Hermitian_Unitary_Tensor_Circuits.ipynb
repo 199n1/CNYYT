{
  "cells": [
    {
      "cell_type": "markdown",
      "id": "c7d4de9a-e7dc-4cf3-bd8d-7da869ceb9ac",
      "metadata": {
        "id": "c7d4de9a-e7dc-4cf3-bd8d-7da869ceb9ac"
      },
      "source": [
        "# Hermitian Matrices, Unitary Matrices and Tensor Product"
      ]
    },
    {
      "cell_type": "markdown",
      "id": "007db568-62bf-4098-a52f-281b41db3012",
      "metadata": {
        "id": "007db568-62bf-4098-a52f-281b41db3012"
      },
      "source": [
        "\n",
        "# Understanding Complex Hermitian and Unitary Matrices\n",
        "\n",
        "This tutorial delves into two pivotal concepts in quantum computing and linear algebra: complex Hermitian and Unitary matrices. Both play critical roles in quantum mechanics and quantum computing, underpinning the behavior of quantum systems and the operations performed on them.\n",
        "\n",
        "## Objectives\n",
        "- Define and explore the properties of complex Hermitian matrices.\n",
        "- Understand and implement complex Unitary matrices in Python.\n",
        "- Highlight their significance and applications in quantum computing.\n",
        "\n",
        "Prepare to enhance your mathematical toolkit with these foundational concepts, illustrated with Python examples for a hands-on learning experience.\n"
      ]
    },
    {
      "cell_type": "markdown",
      "id": "172b4789-ccc2-41be-ae1b-fff456a76c41",
      "metadata": {
        "id": "172b4789-ccc2-41be-ae1b-fff456a76c41"
      },
      "source": [
        "\n",
        "## Complex Hermitian Matrices\n",
        "\n",
        "A Hermitian matrix, or self-adjoint matrix, is a square matrix that is equal to its own conjugate transpose. This property makes it a natural representation of observable quantities in quantum mechanics.\n",
        "\n",
        "### Properties\n",
        "- The eigenvalues of a Hermitian matrix are always real.\n",
        "- The eigenvectors of a Hermitian matrix corresponding to different eigenvalues are orthogonal.\n",
        "- Hermitian matrices are extensively used in quantum mechanics to describe physical observables.\n",
        "\n",
        "### Python Example: Defining a Hermitian Matrix\n"
      ]
    },
    {
      "cell_type": "code",
      "execution_count": null,
      "id": "be7b7f14-c501-4fd9-a482-73f4acf8bfd9",
      "metadata": {
        "colab": {
          "base_uri": "https://localhost:8080/"
        },
        "id": "be7b7f14-c501-4fd9-a482-73f4acf8bfd9",
        "outputId": "98fe77a2-56de-40a8-cc36-9ea00d313afa"
      },
      "outputs": [
        {
          "output_type": "execute_result",
          "data": {
            "text/plain": [
              "(True,\n",
              " array([[2.+0.j, 2.-1.j],\n",
              "        [2.+1.j, 3.+0.j]]))"
            ]
          },
          "metadata": {},
          "execution_count": 1
        }
      ],
      "source": [
        "\n",
        "import numpy as np\n",
        "\n",
        "# Define a complex Hermitian matrix\n",
        "hermitian_matrix = np.array([[2+0j, 2-1j], [2+1j, 3+0j]])\n",
        "\n",
        "# Check if the matrix is Hermitian\n",
        "is_hermitian = np.allclose(hermitian_matrix, hermitian_matrix.conj().T)\n",
        "\n",
        "is_hermitian, hermitian_matrix\n"
      ]
    },
    {
      "cell_type": "markdown",
      "id": "6c6e41c4-7edb-46e0-b5a3-9dc381541312",
      "metadata": {
        "id": "6c6e41c4-7edb-46e0-b5a3-9dc381541312"
      },
      "source": [
        "\n",
        "## Complex Unitary Matrices\n",
        "\n",
        "A Unitary matrix is a square matrix whose conjugate transpose is also its inverse. Unitary matrices preserve the inner product, making them essential for describing quantum gates and evolution in quantum computing.\n",
        "\n",
        "### Properties\n",
        "- Preserves the norm of vectors, hence preserving quantum states during transformations.\n",
        "- The determinant of a Unitary matrix has an absolute value of 1.\n",
        "- Used to represent reversible quantum operations and time evolution in quantum systems.\n",
        "\n",
        "### Python Example: Defining a Unitary Matrix\n"
      ]
    },
    {
      "cell_type": "code",
      "execution_count": null,
      "id": "72119954-9647-4f66-93e9-c014c05bb48c",
      "metadata": {
        "colab": {
          "base_uri": "https://localhost:8080/"
        },
        "id": "72119954-9647-4f66-93e9-c014c05bb48c",
        "outputId": "33013b64-188b-425d-f25a-327b9a8d3ced"
      },
      "outputs": [
        {
          "output_type": "execute_result",
          "data": {
            "text/plain": [
              "(True,\n",
              " array([[ 0.70710678+0.j        ,  0.70710678+0.j        ],\n",
              "        [ 0.        +0.70710678j, -0.        -0.70710678j]]))"
            ]
          },
          "metadata": {},
          "execution_count": 2
        }
      ],
      "source": [
        "\n",
        "# Define a complex Unitary matrix\n",
        "unitary_matrix = np.array([[1/np.sqrt(2), 1/np.sqrt(2)], [1/np.sqrt(2)*1j, -1/np.sqrt(2)*1j]])\n",
        "\n",
        "# Check if the matrix is Unitary\n",
        "# np.eye(2) returns the identity of size 2x2\n",
        "is_unitary = np.allclose(np.dot(unitary_matrix, unitary_matrix.conj().T), np.eye(2))\n",
        "\n",
        "is_unitary, unitary_matrix\n"
      ]
    },
    {
      "cell_type": "markdown",
      "id": "85750bcf-34ab-49ab-9163-509b29e719c9",
      "metadata": {
        "id": "85750bcf-34ab-49ab-9163-509b29e719c9"
      },
      "source": [
        "# Tensor product"
      ]
    },
    {
      "cell_type": "markdown",
      "id": "b85487ee-1d19-47ab-a0a7-e05c8b758b13",
      "metadata": {
        "id": "b85487ee-1d19-47ab-a0a7-e05c8b758b13"
      },
      "source": [
        "\n",
        "## Tensor Product for Complex Vectors\n",
        "\n",
        "The tensor product of two complex vectors creates a new vector in a higher-dimensional space, allowing us to combine quantum states in quantum computing.\n",
        "\n",
        "### Example\n"
      ]
    },
    {
      "cell_type": "code",
      "execution_count": null,
      "id": "c4619aad-e04f-4787-a8ff-8e324f13b816",
      "metadata": {
        "colab": {
          "base_uri": "https://localhost:8080/"
        },
        "id": "c4619aad-e04f-4787-a8ff-8e324f13b816",
        "outputId": "29ee6933-7e75-436d-e464-a3745c205c21"
      },
      "outputs": [
        {
          "output_type": "execute_result",
          "data": {
            "text/plain": [
              "array([ -7.+16.j,  -9.+22.j,  -9.+38.j, -11.+52.j])"
            ]
          },
          "metadata": {},
          "execution_count": 3
        }
      ],
      "source": [
        "\n",
        "import numpy as np\n",
        "\n",
        "# Define two complex vectors for the tensor product\n",
        "v1 = np.array([1+2j, 3+4j])\n",
        "v2 = np.array([5+6j, 7+8j])\n",
        "\n",
        "# Calculate the tensor product\n",
        "tensor_product_v = np.kron(v1, v2)\n",
        "\n",
        "tensor_product_v\n"
      ]
    },
    {
      "cell_type": "markdown",
      "id": "aa89e379-8ce8-493d-8b0e-6461a7fc1325",
      "metadata": {
        "id": "aa89e379-8ce8-493d-8b0e-6461a7fc1325"
      },
      "source": [
        "\n",
        "## Tensor Product for Complex Matrices\n",
        "\n",
        "The tensor product for matrices combines individual matrices into a larger matrix, crucial for representing multiple qubit systems in quantum computing.\n",
        "\n",
        "### Example\n"
      ]
    },
    {
      "cell_type": "code",
      "execution_count": null,
      "id": "c558e2f2-8ecf-466a-8fb4-469566157419",
      "metadata": {
        "colab": {
          "base_uri": "https://localhost:8080/"
        },
        "id": "c558e2f2-8ecf-466a-8fb4-469566157419",
        "outputId": "1a9ed4fc-bc19-42a3-b6be-7138432de7e0"
      },
      "outputs": [
        {
          "output_type": "execute_result",
          "data": {
            "text/plain": [
              "array([[-11. +28.j, -13. +34.j, -13. +66.j, -15. +80.j],\n",
              "       [-15. +40.j, -17. +46.j, -17. +94.j, -19.+108.j],\n",
              "       [-15.+104.j, -17.+126.j, -17.+142.j, -19.+172.j],\n",
              "       [-19.+148.j, -21.+170.j, -21.+202.j, -23.+232.j]])"
            ]
          },
          "metadata": {},
          "execution_count": 4
        }
      ],
      "source": [
        "\n",
        "# Define two complex matrices for the tensor product\n",
        "M1 = np.array([[1+2j, 3+4j], [5+6j, 7+8j]])\n",
        "M2 = np.array([[9+10j, 11+12j], [13+14j, 15+16j]])\n",
        "\n",
        "# Calculate the tensor product\n",
        "tensor_product_m = np.kron(M1, M2)\n",
        "\n",
        "tensor_product_m\n"
      ]
    },
    {
      "cell_type": "markdown",
      "id": "ffa82608-ea8c-4bc7-b357-a8552a649f0c",
      "metadata": {
        "id": "ffa82608-ea8c-4bc7-b357-a8552a649f0c"
      },
      "source": [
        "# Exercises on Complex Vector and Matrix Operations\n",
        "\n",
        "This set of exercises is designed to test your understanding of various concepts related to complex vector and matrix operations, which are foundational in quantum computing. Each exercise presents a concrete case for you to apply what you've learned about Hermitian matrices, Unitary matrices, and tensor products.\n",
        "\n",
        "NOTE: VERIFY YOUR COMPUTATIONS IN PAPER AND IN THE COMPUTER.\n",
        "\n",
        "## Exercise 1: Complex Hermitian Matrices\n",
        "\n",
        "Consider the matrix:\n",
        "\n",
        "$$ H = \\begin{bmatrix} 3 & 2+i \\\\ 2-i & 1 \\end{bmatrix} $$\n",
        "\n",
        "- Verify if $ H $ is a Hermitian matrix.\n",
        "- If it is, find its eigenvalues.\n",
        "\n",
        "## Exercise 2: Complex Unitary Matrices\n",
        "\n",
        "Consider the matrix:\n",
        "\n",
        "$$ U = \\frac{1}{\\sqrt{2}}\\begin{bmatrix} 1 & i \\\\ i & 1 \\end{bmatrix} $$\n",
        "\n",
        "- Verify if $ U $ is a Unitary matrix.\n",
        "- Compute $ UU^\\dagger $ to confirm its Unitarity, where $ U^\\dagger $ denotes the conjugate transpose of $ U $.\n",
        "\n",
        "## Exercise 3: Tensor Product for Complex Vectors\n",
        "\n",
        "Given the complex vectors:\n",
        "\n",
        "$$ \\mathbf{v} = \\begin{bmatrix} 1+i \\\\ 2-i \\end{bmatrix}, \\quad \\mathbf{w} = \\begin{bmatrix} 1-2i \\\\ 3 \\end{bmatrix} $$\n",
        "\n",
        "Calculate the tensor product $ \\mathbf{v} \\otimes \\mathbf{w} $.\n",
        "\n",
        "## Exercise 4: Tensor Product for Complex Matrices\n",
        "\n",
        "Given the matrices:\n",
        "\n",
        "$$ M_1 = \\begin{bmatrix} 0 & 1 \\\\ 1 & 0 \\end{bmatrix}, \\quad M_2 = \\begin{bmatrix} i & 0 \\\\ 0 & -i \\end{bmatrix} $$\n",
        "\n",
        "Calculate the tensor product $ M_1 \\otimes M_2 $.\n",
        "\n",
        "## Exercise 5: Modelling quantum computations with vectors and matrices\n",
        "\n",
        "Using matrices and vectors, implement a model of the Mach/Zehnder interferometer.\n",
        "\n",
        "![Mach-Zehnder interferometer](images/Mach-Zehnder-Interferometer.png)\n",
        "\n",
        "## Exercise 6: Composing quantum systems\n",
        "\n",
        "Using matrices and vectors, implement a model of the following circuit.\n",
        "\n",
        "![Mach-Zehnder interferometer](images/Deutsch-Algorithm.png)\n",
        "\n",
        "Use the following MAtrix for $U_f$:\n",
        "\n",
        "![Mach-Zehnder interferometer](images/ExampleUf.png)\n",
        "\n"
      ]
    },
    {
      "cell_type": "markdown",
      "source": [
        "# Ejercicio 1: Verificar si una matriz es Hermitiana y calcular autovalores"
      ],
      "metadata": {
        "id": "Udyf4MYNsmV0"
      },
      "id": "Udyf4MYNsmV0"
    },
    {
      "cell_type": "code",
      "execution_count": 1,
      "id": "88e33dfd-c15e-4cbb-8b20-208efb0aadf7",
      "metadata": {
        "colab": {
          "base_uri": "https://localhost:8080/"
        },
        "id": "88e33dfd-c15e-4cbb-8b20-208efb0aadf7",
        "outputId": "df8248ad-01ff-4ebf-b969-5c8c7acf2e09"
      },
      "outputs": [
        {
          "output_type": "stream",
          "name": "stdout",
          "text": [
            "¿Es Hermitiana? True\n",
            "Valores propios: [ 4.44948974+6.70989255e-17j -0.44948974-1.15877743e-17j]\n",
            "Vectores propios:\n",
            " [[ 0.83912106+0.j         -0.48651894+0.24325947j]\n",
            " [ 0.48651894+0.24325947j  0.83912106+0.j        ]]\n"
          ]
        }
      ],
      "source": [
        "import numpy as np\n",
        "\n",
        "# Definimos la matriz H\n",
        "H = np.array([[3, 2 - 1j],\n",
        "              [2 + 1j, 1]])\n",
        "\n",
        "# Verificar si es Hermitiana\n",
        "is_hermitian = np.allclose(H, H.conj().T)\n",
        "\n",
        "# Calcular valores propios\n",
        "eigenvalues, eigenvectors = np.linalg.eig(H)\n",
        "\n",
        "print(\"¿Es Hermitiana?\", is_hermitian)\n",
        "print(\"Valores propios:\", eigenvalues)\n",
        "print(\"Vectores propios:\\n\", eigenvectors)\n"
      ]
    },
    {
      "cell_type": "markdown",
      "source": [
        "# Ejercicio 2: Verificar si una matriz es Unitaria y calcular U * U†"
      ],
      "metadata": {
        "id": "Uds9WeNLtB1k"
      },
      "id": "Uds9WeNLtB1k"
    },
    {
      "cell_type": "code",
      "source": [
        "import numpy as np\n",
        "\n",
        "# Definimos la matriz U\n",
        "U = (1/np.sqrt(2)) * np.array([[1, 1],\n",
        "                               [1j, -1j]])\n",
        "\n",
        "# Verificar si es Unitaria\n",
        "is_unitary = np.allclose(U @ U.conj().T, np.eye(2))\n",
        "\n",
        "print(\"¿Es Unitaria?\", is_unitary)\n",
        "print(\"U * U† =\\n\", U @ U.conj().T)\n"
      ],
      "metadata": {
        "colab": {
          "base_uri": "https://localhost:8080/"
        },
        "id": "D-AjU9hhFrf3",
        "outputId": "c6a72e31-f455-4ff8-bed4-ecb35f084f25"
      },
      "id": "D-AjU9hhFrf3",
      "execution_count": null,
      "outputs": [
        {
          "output_type": "stream",
          "name": "stdout",
          "text": [
            "¿Es Unitaria? True\n",
            "U * U† =\n",
            " [[1.+0.00000000e+00j 0.+2.23711432e-17j]\n",
            " [0.-2.23711432e-17j 1.+0.00000000e+00j]]\n"
          ]
        }
      ]
    },
    {
      "cell_type": "markdown",
      "source": [
        "# Ejercicio 3: Producto tensorial de dos vectores complejos"
      ],
      "metadata": {
        "id": "Mdj87tz5tKh7"
      },
      "id": "Mdj87tz5tKh7"
    },
    {
      "cell_type": "code",
      "source": [
        "import numpy as np\n",
        "\n",
        "# Vectores complejos\n",
        "v = np.array([1 + 1j, 2 - 1j])\n",
        "w = np.array([1 - 2j, 3])\n",
        "\n",
        "# Producto tensorial\n",
        "tensor_product_v = np.kron(v, w)\n",
        "\n",
        "print(\"Producto tensorial v ⊗ w =\\n\", tensor_product_v)\n"
      ],
      "metadata": {
        "colab": {
          "base_uri": "https://localhost:8080/"
        },
        "id": "JHsQK6jEFurz",
        "outputId": "11986222-43cd-4ff0-f0f5-bec68a566ef2"
      },
      "id": "JHsQK6jEFurz",
      "execution_count": 2,
      "outputs": [
        {
          "output_type": "stream",
          "name": "stdout",
          "text": [
            "Producto tensorial v ⊗ w =\n",
            " [3.-1.j 3.+3.j 0.-5.j 6.-3.j]\n"
          ]
        }
      ]
    },
    {
      "cell_type": "markdown",
      "source": [
        "# Ejercicio 4: Producto tensorial de dos matrices complejas"
      ],
      "metadata": {
        "id": "hnxZkJhYtPdP"
      },
      "id": "hnxZkJhYtPdP"
    },
    {
      "cell_type": "code",
      "source": [
        "import numpy as np\n",
        "\n",
        "# Matrices\n",
        "M1 = np.array([[0, 1],\n",
        "               [1, 0]])\n",
        "\n",
        "M2 = np.array([[1j, 0],\n",
        "               [0, -1j]])\n",
        "\n",
        "# Producto tensorial\n",
        "tensor_product_m = np.kron(M1, M2)\n",
        "\n",
        "print(\"Producto tensorial M1 ⊗ M2 =\\n\", tensor_product_m)\n"
      ],
      "metadata": {
        "colab": {
          "base_uri": "https://localhost:8080/"
        },
        "id": "w8IgX5VFFx0F",
        "outputId": "c9bbf8e3-b18a-4113-b514-5f929ab28c35"
      },
      "id": "w8IgX5VFFx0F",
      "execution_count": 3,
      "outputs": [
        {
          "output_type": "stream",
          "name": "stdout",
          "text": [
            "Producto tensorial M1 ⊗ M2 =\n",
            " [[0.+0.j 0.+0.j 0.+1.j 0.+0.j]\n",
            " [0.+0.j 0.-0.j 0.+0.j 0.-1.j]\n",
            " [0.+1.j 0.+0.j 0.+0.j 0.+0.j]\n",
            " [0.+0.j 0.-1.j 0.+0.j 0.-0.j]]\n"
          ]
        }
      ]
    },
    {
      "cell_type": "markdown",
      "source": [
        "# Ejercicio 5: Modelo del interferómetro de Mach-Zehnder"
      ],
      "metadata": {
        "id": "C4feTtOetq6T"
      },
      "id": "C4feTtOetq6T"
    },
    {
      "cell_type": "code",
      "source": [
        "import numpy as np\n",
        "\n",
        "# Matriz Hadamard\n",
        "H = (1/np.sqrt(2)) * np.array([[1, 1],\n",
        "                               [1, -1]])\n",
        "\n",
        "# Matriz de fase\n",
        "P = np.array([[1, 0],\n",
        "              [0, np.exp(1j * np.pi/2)]])\n",
        "\n",
        "# Estado inicial\n",
        "psi0 = np.array([1, 0])\n",
        "\n",
        "# Aplicar operaciones: H -> P -> H\n",
        "psi1 = H @ psi0\n",
        "psi2 = P @ psi1\n",
        "psi3 = H @ psi2\n",
        "\n",
        "print(\"Estado final Mach-Zehnder =\", psi3)\n"
      ],
      "metadata": {
        "colab": {
          "base_uri": "https://localhost:8080/"
        },
        "id": "A0dM9FWJF3-X",
        "outputId": "e1cdae73-14ab-4e6f-e5bc-2c7894969637"
      },
      "id": "A0dM9FWJF3-X",
      "execution_count": 4,
      "outputs": [
        {
          "output_type": "stream",
          "name": "stdout",
          "text": [
            "Estado final Mach-Zehnder = [0.5+0.5j 0.5-0.5j]\n"
          ]
        }
      ]
    },
    {
      "cell_type": "markdown",
      "source": [
        "# Ejercicio 6: Composición de sistemas cuánticos con Uf"
      ],
      "metadata": {
        "id": "bk5BEUcPt0-7"
      },
      "id": "bk5BEUcPt0-7"
    },
    {
      "cell_type": "code",
      "source": [
        "import numpy as np\n",
        "\n",
        "# Hadamard (H)\n",
        "H = (1/np.sqrt(2)) * np.array([[1, 1],\n",
        "                               [1, -1]])\n",
        "\n",
        "# Uf (ejemplo dado en muchos problemas de computación cuántica)\n",
        "Uf = np.array([[1, 0, 0, 0],\n",
        "               [0, 0, 0, 1],\n",
        "               [0, 0, 1, 0],\n",
        "               [0, 1, 0, 0]])\n",
        "\n",
        "# Estado inicial |0⟩|1⟩\n",
        "psi0 = np.array([0, 1, 0, 0])\n",
        "\n",
        "# H en el primer qubit => aplicamos H ⊗ I\n",
        "H1 = np.kron(H, np.eye(2))\n",
        "psi1 = H1 @ psi0\n",
        "\n",
        "# Aplicar Uf\n",
        "psi2 = Uf @ psi1\n",
        "\n",
        "# Medir estado final\n",
        "print(\"Estado final del sistema =\", psi2)\n"
      ],
      "metadata": {
        "colab": {
          "base_uri": "https://localhost:8080/"
        },
        "id": "KJzgWnulF4l-",
        "outputId": "954949f2-3ff5-4303-9e31-fddb6e36c4f3"
      },
      "id": "KJzgWnulF4l-",
      "execution_count": 5,
      "outputs": [
        {
          "output_type": "stream",
          "name": "stdout",
          "text": [
            "Estado final del sistema = [0.         0.70710678 0.         0.70710678]\n"
          ]
        }
      ]
    },
    {
      "cell_type": "code",
      "source": [],
      "metadata": {
        "id": "vfuYdIUHF3m3"
      },
      "id": "vfuYdIUHF3m3",
      "execution_count": null,
      "outputs": []
    }
  ],
  "metadata": {
    "kernelspec": {
      "display_name": "Python 3 (ipykernel)",
      "language": "python",
      "name": "python3"
    },
    "language_info": {
      "codemirror_mode": {
        "name": "ipython",
        "version": 3
      },
      "file_extension": ".py",
      "mimetype": "text/x-python",
      "name": "python",
      "nbconvert_exporter": "python",
      "pygments_lexer": "ipython3",
      "version": "3.9.1"
    },
    "colab": {
      "provenance": []
    }
  },
  "nbformat": 4,
  "nbformat_minor": 5
}